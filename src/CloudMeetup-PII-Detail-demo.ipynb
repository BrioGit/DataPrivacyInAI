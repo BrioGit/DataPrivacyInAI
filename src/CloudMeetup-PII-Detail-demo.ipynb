{
 "cells": [
  {
   "cell_type": "markdown",
   "id": "4a0640f6",
   "metadata": {},
   "source": [
    "# Detailed example of an entry being de-identified of PII and processed through a LLM Model"
   ]
  },
  {
   "cell_type": "markdown",
   "id": "eb579319",
   "metadata": {},
   "source": [
    "## Required imports"
   ]
  },
  {
   "cell_type": "code",
   "execution_count": 1,
   "id": "cea94d98",
   "metadata": {},
   "outputs": [],
   "source": [
    "import json #pip install jsonschema=4.17.3\n",
    "import openai #pip install openai==1.2.0\n",
    "import pandas as pd\n",
    "import numpy as np\n",
    "from azure.ai.textanalytics import TextAnalyticsClient, PiiEntityCategory #pip install azure-ai-textanalytics==5.2.0\n",
    "from azure.core.credentials import AzureKeyCredential #pip install azure-core\n",
    "from tqdm import tqdm #for progress bar"
   ]
  },
  {
   "cell_type": "markdown",
   "id": "a66553df",
   "metadata": {},
   "source": [
    "## Get and set configuration values"
   ]
  },
  {
   "cell_type": "code",
   "execution_count": 2,
   "id": "535d6bf7",
   "metadata": {},
   "outputs": [],
   "source": [
    "with open(r'config.json') as config_file:\n",
    "    config_details = json.load(config_file)\n",
    "config_file.close()    \n",
    "\n",
    "# Azure AI Language service configuration\n",
    "key = config_details['AZURE_LANG_SVC_KEY']\n",
    "endpoint = config_details['AZURE_LANG_SVC_ENDPT']\n",
    "\n",
    "# Azure OpenAI configuration\n",
    "openai.api_type = \"azure\"\n",
    "openai.api_base = config_details['OPENAI_API_BASE']\n",
    "openai.api_version = config_details['OPENAI_API_VERSION']\n",
    "openai.api_key = config_details['OPENAI_API_KEY']"
   ]
  },
  {
   "cell_type": "markdown",
   "id": "ebab5134",
   "metadata": {},
   "source": [
    "## Set up some helper methods"
   ]
  },
  {
   "cell_type": "markdown",
   "id": "6f83a00c",
   "metadata": {},
   "source": [
    "### Authentication for Azure Service"
   ]
  },
  {
   "cell_type": "code",
   "execution_count": 3,
   "id": "aa03de02",
   "metadata": {},
   "outputs": [],
   "source": [
    "# Authenticate the client using your key and endpoint \n",
    "def authenticate_client():\n",
    "    ta_credential = AzureKeyCredential(key)\n",
    "    text_analytics_client = TextAnalyticsClient(\n",
    "            endpoint=endpoint, \n",
    "            credential=ta_credential)\n",
    "    return text_analytics_client"
   ]
  },
  {
   "cell_type": "markdown",
   "id": "e90f8c65",
   "metadata": {},
   "source": [
    "### Method to filter by confidence level"
   ]
  },
  {
   "cell_type": "code",
   "execution_count": 4,
   "id": "ee77294b",
   "metadata": {},
   "outputs": [],
   "source": [
    "# Utility method to implement a confidence level filter\n",
    "def filter_confidence_level(target_text, entity_data, confidence_level=0.8):\n",
    "\n",
    "    updated_text = target_text\n",
    "    for entity in entity_data:\n",
    "        if entity.confidence_score < confidence_level:\n",
    "            updated_text = updated_text[:entity.offset] + entity.text + updated_text[entity.offset+entity.length:]\n",
    "    return updated_text        "
   ]
  },
  {
   "cell_type": "markdown",
   "id": "cca9c504",
   "metadata": {},
   "source": [
    "## Method to deidentify and classify notes"
   ]
  },
  {
   "cell_type": "markdown",
   "id": "d718cb61",
   "metadata": {},
   "source": [
    "### PiiEntityCategory list: https://learn.microsoft.com/en-us/python/api/azure-ai-textanalytics/azure.ai.textanalytics.piientitycategory?view=azure-python"
   ]
  },
  {
   "cell_type": "code",
   "execution_count": 5,
   "id": "34196282",
   "metadata": {},
   "outputs": [],
   "source": [
    "# Create a method to process a collection of notes\n",
    "def process_notes_entry(text_analytics_client, notes, debug=False):\n",
    "    \n",
    "    formatted_result = []\n",
    "    \n",
    "    # List types of PII to remove from text\n",
    "    categories_filter = [\n",
    "          PiiEntityCategory.PHONE_NUMBER,\n",
    "          PiiEntityCategory.ADDRESS,\n",
    "          PiiEntityCategory.PERSON] \n",
    "    \n",
    "    response = text_analytics_client.recognize_pii_entities(notes, \n",
    "                                                            categories_filter=categories_filter, language=\"en\")\n",
    "\n",
    "    result = [doc for doc in response if not doc.is_error]\n",
    "    for i, doc in enumerate(result):\n",
    "        if (debug):\n",
    "            print(\"========================\")\n",
    "        first_entityPerson = \"\"\n",
    "        for entity in doc.entities:\n",
    "            if first_entityPerson == \"\" and entity.category == \"Person\":\n",
    "                first_entityPerson = entity.text\n",
    "            if (debug):    \n",
    "                print(f\"Entity: {entity.text}\")\n",
    "                print(f\"\\tCategory: {entity.category}\")\n",
    "                print(f\"\\tConfidence Score: {entity.confidence_score}\")\n",
    "                print(f\"\\tOffset: {entity.offset}\")\n",
    "                print(f\"\\tLength: {entity.length}\")\n",
    "        \n",
    "        app_confid_text = filter_confidence_level(doc.redacted_text, doc.entities, confidence_level=0.8)\n",
    "        if (debug):\n",
    "            print(f\"Redacted Text at confidence_level >= 0.8: {app_confid_text}\")\n",
    "            print(\"========================\")\n",
    "                   \n",
    "        prompt_val_1shot = f\"\"\"\n",
    "            Pretend you are Santa Claus and tell me if the child described below belongs on the\n",
    "            Nice or Naughty list for this Christmas. Be sure to take into account the relative impact\n",
    "            and severity of the each of the behaviors described. You may only answer with 'Nice' or 'Naughty' \n",
    "            for your response. Do not always say 'Nice' \n",
    "            Name: ********** | 6 years | ****************************** | ************\n",
    "            Notes: ***** frequently lied about finishing his homework, bullied classmates, and was unkind to his pets. \n",
    "            Answer: Naughty\n",
    "            {app_confid_text} \n",
    "            Answer:\"\"\"\n",
    "        \n",
    "          \n",
    "        responseAI = openai.Completion.create(\n",
    "            engine=\"brio-davinci3\",\n",
    "            #engine=\"brio-gpt35\",\n",
    "            prompt=prompt_val_1shot,\n",
    "            temperature=0.1,\n",
    "            max_tokens=3,\n",
    "            top_p=0.1,\n",
    "            frequency_penalty=0,\n",
    "            presence_penalty=0,\n",
    "            stop=None)   \n",
    "        \n",
    "        if (debug):\n",
    "            print(responseAI)\n",
    "        \n",
    "        # Take the first line of the original text and append the result\n",
    "        formatted_result.append(notes[i].split('\\n')[0] + \" | \" + responseAI['choices'][0]['text'].strip().upper())\n",
    "           \n",
    "    return formatted_result"
   ]
  },
  {
   "cell_type": "markdown",
   "id": "de588444",
   "metadata": {},
   "source": [
    "## Authenticate and try it out!"
   ]
  },
  {
   "cell_type": "code",
   "execution_count": 6,
   "id": "0a20c309",
   "metadata": {},
   "outputs": [],
   "source": [
    "txt_analytics = authenticate_client()"
   ]
  },
  {
   "cell_type": "markdown",
   "id": "0708cf65",
   "metadata": {},
   "source": [
    "## Sample 1"
   ]
  },
  {
   "cell_type": "code",
   "execution_count": 7,
   "id": "cb3a6d4e",
   "metadata": {},
   "outputs": [
    {
     "name": "stdout",
     "output_type": "stream",
     "text": [
      "========================\n",
      "Entity: Timmy Johnson\n",
      "\tCategory: Person\n",
      "\tConfidence Score: 1.0\n",
      "\tOffset: 0\n",
      "\tLength: 13\n",
      "Entity: 123 Main St, Pleasant PA 19305\n",
      "\tCategory: Address\n",
      "\tConfidence Score: 1.0\n",
      "\tOffset: 26\n",
      "\tLength: 30\n",
      "Entity: 345-555-4433\n",
      "\tCategory: PhoneNumber\n",
      "\tConfidence Score: 0.8\n",
      "\tOffset: 58\n",
      "\tLength: 12\n",
      "Entity: Timmy\n",
      "\tCategory: Person\n",
      "\tConfidence Score: 0.99\n",
      "\tOffset: 79\n",
      "\tLength: 5\n",
      "Redacted Text at confidence_level >= 0.8: ************* | 7 years | ******************************| ************\n",
      "\n",
      "Notes: *****'s had an ok year. He's doing better in school and mostly stopped pulling the dog’s tail. However, he's \n",
      "fallen in with a bit of a bad crowd and started pushing crypto schemes on his classmates.  He convinced them to invest \n",
      "their lunch money in his new 'TimmyCoin2.0' and then told them it lost all its value when they tried to cash out. He's \n",
      "also begun selling NFTs of his drawings, insisting they will only go up in value.\n",
      "\n",
      "========================\n",
      "{\n",
      "  \"choices\": [\n",
      "    {\n",
      "      \"finish_reason\": \"stop\",\n",
      "      \"index\": 0,\n",
      "      \"logprobs\": null,\n",
      "      \"text\": \" Naughty\"\n",
      "    }\n",
      "  ],\n",
      "  \"created\": 1702325039,\n",
      "  \"id\": \"cmpl-8UgnPXcUDP4DoRSLq7HdGdsTFFvmi\",\n",
      "  \"model\": \"text-davinci-003\",\n",
      "  \"object\": \"text_completion\",\n",
      "  \"usage\": {\n",
      "    \"completion_tokens\": 2,\n",
      "    \"prompt_tokens\": 266,\n",
      "    \"total_tokens\": 268\n",
      "  }\n",
      "}\n",
      "['Timmy Johnson | 7 years | 123 Main St, Pleasant PA 19305| 345-555-4433 | NAUGHTY']\n"
     ]
    }
   ],
   "source": [
    "sample_note_1 = \"\"\"Timmy Johnson | 7 years | 123 Main St, Pleasant PA 19305| 345-555-4433\n",
    "\n",
    "Notes: Timmy's had an ok year. He's doing better in school and mostly stopped pulling the dog’s tail. However, he's \n",
    "fallen in with a bit of a bad crowd and started pushing crypto schemes on his classmates.  He convinced them to invest \n",
    "their lunch money in his new 'TimmyCoin2.0' and then told them it lost all its value when they tried to cash out. He's \n",
    "also begun selling NFTs of his drawings, insisting they will only go up in value.\n",
    "\"\"\"\n",
    "\n",
    "output = process_notes_entry(text_analytics_client=txt_analytics,\n",
    "                            notes=[sample_note_1], debug=True)\n",
    "\n",
    "print(output)"
   ]
  },
  {
   "cell_type": "markdown",
   "id": "7f7657ee",
   "metadata": {},
   "source": [
    "## Sample 2"
   ]
  },
  {
   "cell_type": "code",
   "execution_count": 8,
   "id": "d3f2bc29",
   "metadata": {},
   "outputs": [
    {
     "name": "stdout",
     "output_type": "stream",
     "text": [
      "========================\n",
      "Entity: Flora McJingles\n",
      "\tCategory: Person\n",
      "\tConfidence Score: 0.99\n",
      "\tOffset: 0\n",
      "\tLength: 15\n",
      "Entity: 123 Holly Lane, North Pole 00000\n",
      "\tCategory: Address\n",
      "\tConfidence Score: 1.0\n",
      "\tOffset: 28\n",
      "\tLength: 32\n",
      "Entity: 123-555-7890\n",
      "\tCategory: PhoneNumber\n",
      "\tConfidence Score: 0.8\n",
      "\tOffset: 63\n",
      "\tLength: 12\n",
      "Entity: Flora\n",
      "\tCategory: Person\n",
      "\tConfidence Score: 0.98\n",
      "\tOffset: 84\n",
      "\tLength: 5\n",
      "Entity: Flora\n",
      "\tCategory: Person\n",
      "\tConfidence Score: 1.0\n",
      "\tOffset: 602\n",
      "\tLength: 5\n",
      "Redacted Text at confidence_level >= 0.8: *************** | 9 years | ******************************** | ************\n",
      "\n",
      "Notes: ***** has shown exceptional kindness by helping her friends with their homework and sharing her toys generously. \n",
      "She participated in community clean-up events and volunteered at the local elf workshop during the holidays. Flora also \n",
      "displayed creativity by organizing a snowman-building contest for her neighborhood, spreading joy among her peers. On the \n",
      "flip side, she was caught attempting to teach the reindeer how to dance the salsa and was found exchanging her vegetables \n",
      "for cookies in the school cafeteria. *****'s adventurous spirit led her to embark on a daring mission to retrieve lost \n",
      "presents from the workshop, demonstrating her determination.\n",
      "\n",
      "========================\n",
      "{\n",
      "  \"choices\": [\n",
      "    {\n",
      "      \"finish_reason\": \"stop\",\n",
      "      \"index\": 0,\n",
      "      \"logprobs\": null,\n",
      "      \"text\": \" Nice\"\n",
      "    }\n",
      "  ],\n",
      "  \"created\": 1702325067,\n",
      "  \"id\": \"cmpl-8Ugnr2EikIovywklztnbOHCEoZlZu\",\n",
      "  \"model\": \"text-davinci-003\",\n",
      "  \"object\": \"text_completion\",\n",
      "  \"usage\": {\n",
      "    \"completion_tokens\": 1,\n",
      "    \"prompt_tokens\": 284,\n",
      "    \"total_tokens\": 285\n",
      "  }\n",
      "}\n",
      "['Flora McJingles | 9 years | 123 Holly Lane, North Pole 00000 | 123-555-7890 | NICE']\n"
     ]
    }
   ],
   "source": [
    "sample_note_2 = \"\"\"Flora McJingles | 9 years | 123 Holly Lane, North Pole 00000 | 123-555-7890\n",
    "\n",
    "Notes: Flora has shown exceptional kindness by helping her friends with their homework and sharing her toys generously. \n",
    "She participated in community clean-up events and volunteered at the local elf workshop during the holidays. Flora also \n",
    "displayed creativity by organizing a snowman-building contest for her neighborhood, spreading joy among her peers. On the \n",
    "flip side, she was caught attempting to teach the reindeer how to dance the salsa and was found exchanging her vegetables \n",
    "for cookies in the school cafeteria. Flora's adventurous spirit led her to embark on a daring mission to retrieve lost \n",
    "presents from the workshop, demonstrating her determination.\n",
    "\"\"\"\n",
    "\n",
    "output = process_notes_entry(text_analytics_client=txt_analytics,\n",
    "                            notes=[sample_note_2], debug=True)\n",
    "\n",
    "print(output)"
   ]
  },
  {
   "cell_type": "markdown",
   "id": "23d7155f",
   "metadata": {},
   "source": [
    "## Sample 3"
   ]
  },
  {
   "cell_type": "code",
   "execution_count": 9,
   "id": "3a256e50",
   "metadata": {},
   "outputs": [
    {
     "name": "stdout",
     "output_type": "stream",
     "text": [
      "========================\n",
      "Entity: Ollie\n",
      "\tCategory: Person\n",
      "\tConfidence Score: 0.75\n",
      "\tOffset: 0\n",
      "\tLength: 5\n",
      "Entity: 123 Mishap Street, Oopsburg, OB 12345\n",
      "\tCategory: Address\n",
      "\tConfidence Score: 1.0\n",
      "\tOffset: 23\n",
      "\tLength: 37\n",
      "Entity: 901-555-5678\n",
      "\tCategory: PhoneNumber\n",
      "\tConfidence Score: 0.8\n",
      "\tOffset: 63\n",
      "\tLength: 12\n",
      "Entity: Ollie\n",
      "\tCategory: Person\n",
      "\tConfidence Score: 1.0\n",
      "\tOffset: 84\n",
      "\tLength: 5\n",
      "Redacted Text at confidence_level >= 0.8: Ollie Oops | 6 years | ************************************* | ************\n",
      "\n",
      "Notes: ***** occasionally had oops-themed tea parties with imaginary friends, apologized for accidentally turning \n",
      "the living room into a slip 'n slide with spilled juice, consistently shared band-aids with friends, helped organize \n",
      "a funny fall contest, had a small disagreement about the best pratfall with a classmate, donated bubble wrap \n",
      "to a local charity, occasionally argued with parents about spill prevention, helped set up a clumsy obstacle course \n",
      "for neighbors, and shared band-aid-shaped cookies with classmates.\n",
      "\n",
      "========================\n",
      "{\n",
      "  \"choices\": [\n",
      "    {\n",
      "      \"finish_reason\": \"stop\",\n",
      "      \"index\": 0,\n",
      "      \"logprobs\": null,\n",
      "      \"text\": \" Nice\"\n",
      "    }\n",
      "  ],\n",
      "  \"created\": 1702325081,\n",
      "  \"id\": \"cmpl-8Ugo5oWRExtgM1NODIcQUfNQgSDJm\",\n",
      "  \"model\": \"text-davinci-003\",\n",
      "  \"object\": \"text_completion\",\n",
      "  \"usage\": {\n",
      "    \"completion_tokens\": 1,\n",
      "    \"prompt_tokens\": 259,\n",
      "    \"total_tokens\": 260\n",
      "  }\n",
      "}\n",
      "['Ollie Oops | 6 years | 123 Mishap Street, Oopsburg, OB 12345 | 901-555-5678 | NICE']\n"
     ]
    }
   ],
   "source": [
    "sample_note_3 = \"\"\"Ollie Oops | 6 years | 123 Mishap Street, Oopsburg, OB 12345 | 901-555-5678\n",
    "\n",
    "Notes: Ollie occasionally had oops-themed tea parties with imaginary friends, apologized for accidentally turning \n",
    "the living room into a slip 'n slide with spilled juice, consistently shared band-aids with friends, helped organize \n",
    "a funny fall contest, had a small disagreement about the best pratfall with a classmate, donated bubble wrap \n",
    "to a local charity, occasionally argued with parents about spill prevention, helped set up a clumsy obstacle course \n",
    "for neighbors, and shared band-aid-shaped cookies with classmates.\n",
    "\"\"\"\n",
    "\n",
    "output = process_notes_entry(text_analytics_client=txt_analytics,\n",
    "                            notes=[sample_note_3], debug=True)\n",
    "\n",
    "print(output)"
   ]
  },
  {
   "cell_type": "markdown",
   "id": "e804b79d",
   "metadata": {},
   "source": [
    "# Test with Azure Sentiment Analysis"
   ]
  },
  {
   "cell_type": "code",
   "execution_count": 10,
   "id": "80eb5c8c",
   "metadata": {},
   "outputs": [
    {
     "name": "stdout",
     "output_type": "stream",
     "text": [
      "========================\n",
      "Document text: Timmy Johnson | 7 years | 123 Main St, Pleasant PA 19305| 345-555-4433\n",
      "\n",
      "Notes: Timmy's had an ok year. He's doing better in school and mostly stopped pulling the dog’s tail. However, he's \n",
      "fallen in with a bit of a bad crowd and started pushing crypto schemes on his classmates.  He convinced them to invest \n",
      "their lunch money in his new 'TimmyCoin2.0' and then told them it lost all its value when they tried to cash out. He's \n",
      "also begun selling NFTs of his drawings, insisting they will only go up in value.\n",
      "\n",
      "Overall sentiment: mixed\n",
      "Sentiment confidence scores: {'positive': 0.24, 'neutral': 0.17, 'negative': 0.59}\n",
      "========================\n",
      "Document text: Flora McJingles | 9 years | 123 Holly Lane, North Pole 00000 | 123-555-7890\n",
      "\n",
      "Notes: Flora has shown exceptional kindness by helping her friends with their homework and sharing her toys generously. \n",
      "She participated in community clean-up events and volunteered at the local elf workshop during the holidays. Flora also \n",
      "displayed creativity by organizing a snowman-building contest for her neighborhood, spreading joy among her peers. On the \n",
      "flip side, she was caught attempting to teach the reindeer how to dance the salsa and was found exchanging her vegetables \n",
      "for cookies in the school cafeteria. Flora's adventurous spirit led her to embark on a daring mission to retrieve lost \n",
      "presents from the workshop, demonstrating her determination.\n",
      "\n",
      "Overall sentiment: mixed\n",
      "Sentiment confidence scores: {'positive': 0.52, 'neutral': 0.29, 'negative': 0.18}\n",
      "========================\n",
      "Document text: Ollie Oops | 6 years | 123 Mishap Street, Oopsburg, OB 12345 | 901-555-5678\n",
      "\n",
      "Notes: Ollie occasionally had oops-themed tea parties with imaginary friends, apologized for accidentally turning \n",
      "the living room into a slip 'n slide with spilled juice, consistently shared band-aids with friends, helped organize \n",
      "a funny fall contest, had a small disagreement about the best pratfall with a classmate, donated bubble wrap \n",
      "to a local charity, occasionally argued with parents about spill prevention, helped set up a clumsy obstacle course \n",
      "for neighbors, and shared band-aid-shaped cookies with classmates.\n",
      "\n",
      "Overall sentiment: negative\n",
      "Sentiment confidence scores: {'positive': 0.09, 'neutral': 0.28, 'negative': 0.64}\n"
     ]
    }
   ],
   "source": [
    "# Test sentiment\n",
    "documents = [sample_note_1, sample_note_2, sample_note_3]\n",
    "sentiment_result = txt_analytics.analyze_sentiment(documents)\n",
    "docs = [doc for doc in sentiment_result if not doc.is_error]\n",
    "\n",
    "for idx, doc in enumerate(docs):\n",
    "    print(\"========================\")\n",
    "    print(f\"Document text: {documents[idx]}\")\n",
    "    print(f\"Overall sentiment: {doc.sentiment}\")\n",
    "    print(f\"Sentiment confidence scores: {doc.confidence_scores}\")"
   ]
  },
  {
   "cell_type": "markdown",
   "id": "feb7da5e",
   "metadata": {},
   "source": [
    "## Process a larger list from a file"
   ]
  },
  {
   "cell_type": "code",
   "execution_count": 11,
   "id": "62d57cdb",
   "metadata": {
    "scrolled": true
   },
   "outputs": [
    {
     "name": "stderr",
     "output_type": "stream",
     "text": [
      "100%|\u001b[32m██████████████████████████████████████████████████████████████████████████████████\u001b[0m| 27/27 [00:06<00:00,  4.14it/s]\u001b[0m"
     ]
    },
    {
     "name": "stdout",
     "output_type": "stream",
     "text": [
      "\u001b[31mName: Timmy Johnson | 7 years | 123 Main St, Pleasant PA 19305| 345-555-4433 | NAUGHTY\u001b[0m\n",
      "\u001b[1;32mName: Flora McJingles | 9 years | 123 Holly Lane, North Pole 00000 | 123-555-7890 | NICE\u001b[0m\n",
      "\u001b[1;32mName: Ollie Oops | 6 years | 123 Mishap Street, Oopsburg, OB 12345 | 901-555-5678 | NICE\u001b[0m\n",
      "\u001b[1;32mName: Wendy Whirlwind | 6 years | 456 Tornado Terrace, Gale City, GC 45678 | 123-555-6789 | NICE\u001b[0m\n",
      "\u001b[1;32mName: Milo Mischief | 8 years | 789 Prankster Lane, Jesterville, JV 78901 | 234-555-8901 | NICE\u001b[0m\n",
      "\u001b[1;32mName: Lily Martinez | 5 years | 789 Mistletoe Avenue, Hollyville, HV 78901 | 901-555-5678 | NICE\u001b[0m\n",
      "\u001b[31mName: Caleb Miller | 11 years | 210 Reindeer Road, Sleighville, SV 18940 | 210-555-3456 | NAUGHTY\u001b[0m\n",
      "\u001b[31mName: Candace Flynn | 14 years | 123 Bustable Blvd, Danville 23456 | 123-555-4567 | NAUGHTY\u001b[0m\n",
      "\u001b[1;32mName: Isabella Garcia-Shapiro | 9 years | 789 Fireside Lane, Danville 23456 | 345-555-6789 | NICE\u001b[0m\n",
      "\u001b[1;32mName: Baljeet Tjinder | 12 years | 202 Smarty Lane, Danville 23456 | 567-555-8901 | NICE\u001b[0m\n",
      "\u001b[31mName: Buford Van Stomm | 11 years | 101 Tough Street, Danville 23456  | 456-555-7890 | NAUGHTY\u001b[0m\n",
      "\u001b[1;32mName: Phineas Fletcher | 10 years | 456 Imagination Ave, Danville 23456 | 234-555-5678 | NICE\u001b[0m\n",
      "\u001b[1;32mName: Luna Lovegood | 10 years | 13 Spectrespecs Lane, Thestral Meadows, Wizarding World | 123-555-7890 | NICE\u001b[0m\n",
      "\u001b[1;32mName: Hermione Granger | 11 years | 7 Muggle Street, Bookworm Haven, Wizarding World | 789-555-5678 | NICE\u001b[0m\n",
      "\u001b[31mName: Fred Weasley | 13 years | 92 Prankster Lane, Jokester Junction, Wizarding World | 234-555-6789 | NAUGHTY\u001b[0m\n",
      "\u001b[1;32mName: Neville Longbottom | 9 years | 3 Herbology Lane, Timid Terrace, Wizarding World | 567-555-2345 | NICE\u001b[0m\n",
      "\u001b[1;32mName: Chewbacca Wookiee | 5 years | 23 Kashyyyk Avenue, Wookiee Village, WV 24680 | 555-555-3456 | NICE\u001b[0m\n",
      "\u001b[1;32mName: Lando Calrissian | 11 years | 654 Cloud City Boulevard, Bespin, BP 34567 | 555-555-7654 | NICE\u001b[0m\n",
      "\u001b[1;32mName: Rey Jakku | 9 years | 345 Scavenger Street, Jakku City, JC 98765 | 555-555-8765 | NICE\u001b[0m\n",
      "\u001b[31mName: Mace Windu | 13 years | 987 Jedi Council Avenue, Coruscant, CR 87654 | 555-555-8765 | NAUGHTY\u001b[0m\n",
      "\u001b[1;32mName: Padme Amidala | 6 years | 567 Queen's Way, Naboo City, NC 13579 | 555-555-5678 | NICE\u001b[0m\n",
      "\u001b[31mName: Luke Skywalker | 12 years | 789 Rebel Base Road, Yavin IV, Y4 56789 | 555-555-9876 | NAUGHTY\u001b[0m\n",
      "\u001b[1;32mName: Han Solo | 13 years | 98 Smuggler's Alley, Cloud City, CC 54321 | 555-555-4321 | NICE\u001b[0m\n",
      "\u001b[1;32mName: Leia Organa | 8 years | 432 Millennium Falcon Lane, Alderaan City, AC 12345 | 555-555-6789 | NICE\u001b[0m\n",
      "\u001b[1;32mName: Al Johnson | 13 years | 7 Ho Ho Lane, Jingle Town, AK 99501 | 907-555-6789 | NICE\u001b[0m\n",
      "\u001b[31mName: Hans Gruber | 45 years | 321 Top Floor, Nakatomi Towers, LA 90001 | 310-555-4321 | NAUGHTY\u001b[0m\n",
      "\u001b[1;32mName: John McClane | 39 years | 302 Maintenance Shaft, Nakatomi Towers, LA 90001 | 310-555-6789 | NICE\u001b[0m\n"
     ]
    },
    {
     "name": "stderr",
     "output_type": "stream",
     "text": [
      "\n"
     ]
    }
   ],
   "source": [
    "class Style():\n",
    "  RED = \"\\033[31m\"\n",
    "  GREEN = \"\\033[1;32m\"\n",
    "  RESET = \"\\033[0m\"\n",
    "\n",
    "output = []\n",
    "result = []\n",
    "pbar = tqdm(total=27, colour=\"green\")\n",
    "\n",
    "with open('santas_notes.txt', 'rt') as notes_file:\n",
    "    notes_list = []\n",
    "    output = []\n",
    "    for b in notes_file:\n",
    "        if b.startswith(\"Name:\"):\n",
    "            current_child = b\n",
    "        if b.startswith(\"Notes:\"):\n",
    "            current_child += b\n",
    "            notes_list.append(current_child)\n",
    "        if len(notes_list) == 5:\n",
    "            output.extend(process_notes_entry(text_analytics_client=txt_analytics,\n",
    "                            notes=notes_list, debug=False))\n",
    "            notes_list = [] \n",
    "            pbar.update(5)\n",
    "    if len(notes_list) > 0:\n",
    "        output.extend(process_notes_entry(text_analytics_client=txt_analytics,\n",
    "                        notes=notes_list, debug=False))\n",
    "        pbar.update(len(notes_list))\n",
    "pbar.close()\n",
    "\n",
    "\n",
    "        \n",
    "for doc in output:\n",
    "    if \"NICE\" in doc:\n",
    "        print(f\"{Style.GREEN}{doc}{Style.RESET}\")\n",
    "        result.append('Nice')\n",
    "    else:\n",
    "        print(f\"{Style.RED}{doc}{Style.RESET}\")    \n",
    "        result.append('Naughty')\n",
    "            \n",
    "df = pd.DataFrame(result, columns=['result'])"
   ]
  },
  {
   "cell_type": "code",
   "execution_count": 12,
   "id": "a211dca3",
   "metadata": {},
   "outputs": [
    {
     "data": {
      "image/png": "[encoded data removed]",
      "text/plain": [
       "<Figure size 1000x500 with 1 Axes>"
      ]
     },
     "metadata": {},
     "output_type": "display_data"
    }
   ],
   "source": [
    "color_dict = {'Naughty': '#DB4325', 'Nice': '#57C4AD'}\n",
    "df_counts = df['result'].value_counts().sort_values()\n",
    "c = df_counts.index.map(color_dict)\n",
    "ticks = np.arange(0, 21, step=1)\n",
    "df_counts.plot(kind='barh', color=c, title='Naughty vs Nice Totals', figsize=(10,5), xticks=ticks);"
   ]
  },
  {
   "cell_type": "code",
   "execution_count": null,
   "id": "c33b8af6",
   "metadata": {},
   "outputs": [],
   "source": []
  }
 ],
 "metadata": {
  "kernelspec": {
   "display_name": "Python 3 (ipykernel)",
   "language": "python",
   "name": "python3"
  },
  "language_info": {
   "codemirror_mode": {
    "name": "ipython",
    "version": 3
   },
   "file_extension": ".py",
   "mimetype": "text/x-python",
   "name": "python",
   "nbconvert_exporter": "python",
   "pygments_lexer": "ipython3",
   "version": "3.11.3"
  }
 },
 "nbformat": 4,
 "nbformat_minor": 5
}
